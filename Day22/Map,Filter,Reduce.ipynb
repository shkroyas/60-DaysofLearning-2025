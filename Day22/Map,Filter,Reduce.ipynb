{
  "nbformat": 4,
  "nbformat_minor": 0,
  "metadata": {
    "colab": {
      "provenance": []
    },
    "kernelspec": {
      "name": "python3",
      "display_name": "Python 3"
    },
    "language_info": {
      "name": "python"
    }
  },
  "cells": [
    {
      "cell_type": "code",
      "execution_count": 28,
      "metadata": {
        "id": "ChaW2TZEtaei"
      },
      "outputs": [],
      "source": [
        "#MAP"
      ]
    },
    {
      "cell_type": "code",
      "source": [
        "def add(a):\n",
        "  return a+a"
      ],
      "metadata": {
        "id": "O3IZ97dytgd4"
      },
      "execution_count": 9,
      "outputs": []
    },
    {
      "cell_type": "code",
      "source": [
        "numbers=(4,6,8,9)"
      ],
      "metadata": {
        "id": "XVmx-I1uuNp_"
      },
      "execution_count": 10,
      "outputs": []
    },
    {
      "cell_type": "code",
      "source": [
        "out = map(add, numbers)"
      ],
      "metadata": {
        "id": "VjFovx1RuRYm"
      },
      "execution_count": 11,
      "outputs": []
    },
    {
      "cell_type": "code",
      "source": [
        "print(out)"
      ],
      "metadata": {
        "colab": {
          "base_uri": "https://localhost:8080/"
        },
        "id": "lWXwdf27uVKm",
        "outputId": "5f1b9ecf-7302-4f7d-ba7a-bc3ef3a19c6b"
      },
      "execution_count": 12,
      "outputs": [
        {
          "output_type": "stream",
          "name": "stdout",
          "text": [
            "<map object at 0x7d348ed37e80>\n"
          ]
        }
      ]
    },
    {
      "cell_type": "code",
      "source": [
        "add=list(out)"
      ],
      "metadata": {
        "id": "qVTwkU6HuXGN"
      },
      "execution_count": 13,
      "outputs": []
    },
    {
      "cell_type": "code",
      "source": [
        "print(add)"
      ],
      "metadata": {
        "colab": {
          "base_uri": "https://localhost:8080/"
        },
        "id": "Z2t22N9luZwV",
        "outputId": "c4aaa7b1-21db-438c-cdc8-3b4188864bb1"
      },
      "execution_count": 14,
      "outputs": [
        {
          "output_type": "stream",
          "name": "stdout",
          "text": [
            "[8, 12, 16, 18]\n"
          ]
        }
      ]
    },
    {
      "cell_type": "code",
      "source": [
        "numbers = (4,6,8,9)"
      ],
      "metadata": {
        "id": "degFNbFCub4G"
      },
      "execution_count": 15,
      "outputs": []
    },
    {
      "cell_type": "code",
      "source": [
        "out = map(lambda a: a*a, numbers)"
      ],
      "metadata": {
        "id": "UpbpVIe8ufx0"
      },
      "execution_count": 16,
      "outputs": []
    },
    {
      "cell_type": "code",
      "source": [
        "print(out)"
      ],
      "metadata": {
        "colab": {
          "base_uri": "https://localhost:8080/"
        },
        "id": "tTCr4WXpumI0",
        "outputId": "8175fe19-8083-40e2-9c1d-65c2a9b8a97a"
      },
      "execution_count": 17,
      "outputs": [
        {
          "output_type": "stream",
          "name": "stdout",
          "text": [
            "<map object at 0x7d348ed6c700>\n"
          ]
        }
      ]
    },
    {
      "cell_type": "code",
      "source": [
        "multiply = list(out)"
      ],
      "metadata": {
        "id": "W-xtKHkbun0M"
      },
      "execution_count": 18,
      "outputs": []
    },
    {
      "cell_type": "code",
      "source": [
        "print(multiply)"
      ],
      "metadata": {
        "colab": {
          "base_uri": "https://localhost:8080/"
        },
        "id": "R4BDutzZur1k",
        "outputId": "2e373661-9cc8-410b-ecea-9d0bfb7bf7b4"
      },
      "execution_count": 19,
      "outputs": [
        {
          "output_type": "stream",
          "name": "stdout",
          "text": [
            "[16, 36, 64, 81]\n"
          ]
        }
      ]
    },
    {
      "cell_type": "code",
      "source": [
        "map_obj = map(str.upper,['pen','books','Phone'])"
      ],
      "metadata": {
        "id": "XEl0sggauum7"
      },
      "execution_count": 20,
      "outputs": []
    },
    {
      "cell_type": "code",
      "source": [
        "print(list(map_obj))"
      ],
      "metadata": {
        "colab": {
          "base_uri": "https://localhost:8080/"
        },
        "id": "rTFkE1UUu6F_",
        "outputId": "ceee148b-2eb2-44b1-ddde-ec0114084eeb"
      },
      "execution_count": 21,
      "outputs": [
        {
          "output_type": "stream",
          "name": "stdout",
          "text": [
            "['PEN', 'BOOKS', 'PHONE']\n"
          ]
        }
      ]
    },
    {
      "cell_type": "code",
      "source": [
        "map_obj = map(lambda x:len(list(x)),['pen','books','IPhone','laptops'])"
      ],
      "metadata": {
        "id": "qYF1sazmu-Db"
      },
      "execution_count": 22,
      "outputs": []
    },
    {
      "cell_type": "code",
      "source": [
        "print(list(map_obj))"
      ],
      "metadata": {
        "colab": {
          "base_uri": "https://localhost:8080/"
        },
        "id": "aFq2v34nvMG5",
        "outputId": "823ba9e6-951f-4d21-84d6-b2ad5ce5147f"
      },
      "execution_count": 23,
      "outputs": [
        {
          "output_type": "stream",
          "name": "stdout",
          "text": [
            "[3, 5, 6, 7]\n"
          ]
        }
      ]
    },
    {
      "cell_type": "code",
      "source": [
        "#Filter"
      ],
      "metadata": {
        "id": "NjZNOv-MvQWa"
      },
      "execution_count": 29,
      "outputs": []
    },
    {
      "cell_type": "code",
      "source": [
        "def fill(a):\n",
        "  if a>5:\n",
        "    return a"
      ],
      "metadata": {
        "id": "K2s9tZ5avVSI"
      },
      "execution_count": 30,
      "outputs": []
    },
    {
      "cell_type": "code",
      "source": [
        "out = filter(fill,(1,4,7,3,9))"
      ],
      "metadata": {
        "id": "vOsbdW-Bv5jW"
      },
      "execution_count": 31,
      "outputs": []
    },
    {
      "cell_type": "code",
      "source": [
        "print(list(out))"
      ],
      "metadata": {
        "colab": {
          "base_uri": "https://localhost:8080/"
        },
        "id": "8CW4Qt3XwBaF",
        "outputId": "f8b920db-df05-4ca0-8d86-cdbd8b31f3bf"
      },
      "execution_count": 32,
      "outputs": [
        {
          "output_type": "stream",
          "name": "stdout",
          "text": [
            "[7, 9]\n"
          ]
        }
      ]
    },
    {
      "cell_type": "code",
      "source": [
        "y=filter(lambda a:a>5,(1,4,7,3,9))"
      ],
      "metadata": {
        "id": "5N5y8K4YwEmt"
      },
      "execution_count": 33,
      "outputs": []
    },
    {
      "cell_type": "code",
      "source": [
        "print(list(y))"
      ],
      "metadata": {
        "colab": {
          "base_uri": "https://localhost:8080/"
        },
        "id": "QOSiQa9ewIZ9",
        "outputId": "c57dea38-1160-498d-b8f3-356393793f2d"
      },
      "execution_count": 35,
      "outputs": [
        {
          "output_type": "stream",
          "name": "stdout",
          "text": [
            "[7, 9]\n"
          ]
        }
      ]
    },
    {
      "cell_type": "code",
      "source": [
        "def veggies_with_e(x):\n",
        "  return 'e' in x"
      ],
      "metadata": {
        "id": "_lCtXB8rwPkd"
      },
      "execution_count": 36,
      "outputs": []
    },
    {
      "cell_type": "code",
      "source": [
        "map_obj = filter(veggies_with_e,['peas','garlic','ginger','beetroot','carrot'])"
      ],
      "metadata": {
        "id": "SUeDTKDEwaUj"
      },
      "execution_count": 37,
      "outputs": []
    },
    {
      "cell_type": "code",
      "source": [
        "print(list(map_obj))"
      ],
      "metadata": {
        "colab": {
          "base_uri": "https://localhost:8080/"
        },
        "id": "kg4Ud8KOwssz",
        "outputId": "571e7589-8744-439c-a522-f0a77e617825"
      },
      "execution_count": 39,
      "outputs": [
        {
          "output_type": "stream",
          "name": "stdout",
          "text": [
            "['peas', 'ginger', 'beetroot']\n"
          ]
        }
      ]
    },
    {
      "cell_type": "code",
      "source": [
        "map_obj = filter(lambda x:'r' in x,['peas','garlic','ginger','beetroot','carrot'])"
      ],
      "metadata": {
        "id": "pM7Gc1yDwuvL"
      },
      "execution_count": 40,
      "outputs": []
    },
    {
      "cell_type": "code",
      "source": [
        "print(list(map_obj))"
      ],
      "metadata": {
        "colab": {
          "base_uri": "https://localhost:8080/"
        },
        "id": "PFIsYOzsw3fy",
        "outputId": "9600c0aa-1450-42ba-84c6-db5505277feb"
      },
      "execution_count": 41,
      "outputs": [
        {
          "output_type": "stream",
          "name": "stdout",
          "text": [
            "['garlic', 'ginger', 'beetroot', 'carrot']\n"
          ]
        }
      ]
    },
    {
      "cell_type": "code",
      "source": [
        "#REDUCE"
      ],
      "metadata": {
        "id": "Xy0qr8CEw7Fq"
      },
      "execution_count": 42,
      "outputs": []
    },
    {
      "cell_type": "code",
      "source": [
        "from functools import reduce"
      ],
      "metadata": {
        "id": "P5kRVPLFw9p7"
      },
      "execution_count": 43,
      "outputs": []
    },
    {
      "cell_type": "code",
      "source": [
        "reduce(lambda a,b:a+b,[1,2,3,4,5])"
      ],
      "metadata": {
        "colab": {
          "base_uri": "https://localhost:8080/"
        },
        "id": "yis55V14xB9J",
        "outputId": "b993d8cc-0c30-4ee6-e531-c4f3ee0c8669"
      },
      "execution_count": 44,
      "outputs": [
        {
          "output_type": "execute_result",
          "data": {
            "text/plain": [
              "15"
            ]
          },
          "metadata": {},
          "execution_count": 44
        }
      ]
    },
    {
      "cell_type": "code",
      "source": [
        "reduce(lambda a,b: a*b,[9,7,23,4])"
      ],
      "metadata": {
        "colab": {
          "base_uri": "https://localhost:8080/"
        },
        "id": "fAe47dPvxHUo",
        "outputId": "08736a40-4a4a-4c63-abab-36dbba9dff39"
      },
      "execution_count": 45,
      "outputs": [
        {
          "output_type": "execute_result",
          "data": {
            "text/plain": [
              "5796"
            ]
          },
          "metadata": {},
          "execution_count": 45
        }
      ]
    },
    {
      "cell_type": "code",
      "source": [
        "numbers = [3,4,6,9,34,12]"
      ],
      "metadata": {
        "id": "CIX3bP5hxVfB"
      },
      "execution_count": 46,
      "outputs": []
    },
    {
      "cell_type": "code",
      "source": [
        "def custom_sum(first, second):\n",
        "  return first + second"
      ],
      "metadata": {
        "id": "ITGg7XRYxbna"
      },
      "execution_count": 47,
      "outputs": []
    },
    {
      "cell_type": "code",
      "source": [
        "result = reduce(custom_sum, numbers)"
      ],
      "metadata": {
        "id": "6yNbqPVCxlUw"
      },
      "execution_count": 48,
      "outputs": []
    },
    {
      "cell_type": "code",
      "source": [
        "print(result)"
      ],
      "metadata": {
        "colab": {
          "base_uri": "https://localhost:8080/"
        },
        "id": "IIVlU_WtxqW4",
        "outputId": "147354b3-0d55-460b-d73a-8c0afb27786b"
      },
      "execution_count": 49,
      "outputs": [
        {
          "output_type": "stream",
          "name": "stdout",
          "text": [
            "68\n"
          ]
        }
      ]
    },
    {
      "cell_type": "code",
      "source": [],
      "metadata": {
        "id": "y3NT0IEaxuJP"
      },
      "execution_count": null,
      "outputs": []
    }
  ]
}