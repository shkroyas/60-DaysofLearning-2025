{
 "cells": [
  {
   "cell_type": "markdown",
   "id": "fifth-carol",
   "metadata": {},
   "source": [
    "### SHA, ( Secure Hash Algorithms )- Base Of BlockChain"
   ]
  },
  {
   "cell_type": "markdown",
   "id": "golden-basket",
   "metadata": {},
   "source": [
    "- SHA256 : This hash function belong to hash class SHA-2, the internal block size of it is 32 bits.\n",
    "- SHA384 : This hash function belong to hash class SHA-2, the internal block size of it is 32 bits. This is one of the truncated version.\n",
    "- SHA224 : This hash function belong to hash class SHA-2, the internal block size of it is 32 bits. This is one of the truncated version.\n",
    "- SHA512 : This hash function belong to hash class SHA-2, the internal block size of it is 64 bits.\n",
    "- SHA1 : The 160 bit hash function that resembles MD5 hash in working and was discontinued to be used seeing its security vulnerabilities."
   ]
  },
  {
   "cell_type": "code",
   "execution_count": 1,
   "id": "mature-desire",
   "metadata": {},
   "outputs": [],
   "source": [
    "import hashlib"
   ]
  },
  {
   "cell_type": "markdown",
   "id": "corresponding-annotation",
   "metadata": {},
   "source": [
    "### SHA256"
   ]
  },
  {
   "cell_type": "code",
   "execution_count": 2,
   "id": "sought-perfume",
   "metadata": {},
   "outputs": [
    {
     "name": "stdout",
     "output_type": "stream",
     "text": [
      "<sha256 _hashlib.HASH object @ 0x000001DBDD222ED0>\n"
     ]
    }
   ],
   "source": [
    "str1=\"Royas Shakya1\"\n",
    "### Process of Hashing\n",
    "### First step is to encode\n",
    "### Then Apply hashing Algorithms\n",
    "hashedval = hashlib.sha256(str1.encode()) \n",
    "print(hashedval)"
   ]
  },
  {
   "cell_type": "code",
   "execution_count": 3,
   "id": "pacific-beaver",
   "metadata": {},
   "outputs": [
    {
     "data": {
      "text/plain": [
       "'2037cecc232cb0e2d96d2a8cec6e7b9da418d57aec14bfdad57c85a88a3010c4'"
      ]
     },
     "execution_count": 3,
     "metadata": {},
     "output_type": "execute_result"
    }
   ],
   "source": [
    "###convert this value to hexadecimal\n",
    "hashedval.hexdigest()"
   ]
  },
  {
   "cell_type": "markdown",
   "id": "first-butter",
   "metadata": {},
   "source": [
    "### SHA384"
   ]
  },
  {
   "cell_type": "code",
   "execution_count": 4,
   "id": "express-looking",
   "metadata": {},
   "outputs": [
    {
     "data": {
      "text/plain": [
       "'4759846de5d74f3df861f08c40fdfa522cf7447cbcc10717e9aa82298cd738fa1a11bd6c650fcaf269e7846557dc79ad'"
      ]
     },
     "execution_count": 4,
     "metadata": {},
     "output_type": "execute_result"
    }
   ],
   "source": [
    "hashedval=hashlib.sha384(str1.encode()) \n",
    "hashedval.hexdigest()"
   ]
  },
  {
   "cell_type": "markdown",
   "id": "comic-afghanistan",
   "metadata": {},
   "source": [
    "### SHA224"
   ]
  },
  {
   "cell_type": "code",
   "execution_count": 5,
   "id": "simple-campbell",
   "metadata": {},
   "outputs": [
    {
     "data": {
      "text/plain": [
       "'f807a13578b19f488275225dc9c61c1402a786570b967c292a2660d5'"
      ]
     },
     "execution_count": 5,
     "metadata": {},
     "output_type": "execute_result"
    }
   ],
   "source": [
    "hashedval=hashlib.sha224(str1.encode()) \n",
    "hashedval.hexdigest()"
   ]
  },
  {
   "cell_type": "markdown",
   "id": "conventional-vector",
   "metadata": {},
   "source": [
    "### SHA512"
   ]
  },
  {
   "cell_type": "code",
   "execution_count": 6,
   "id": "noted-channels",
   "metadata": {},
   "outputs": [
    {
     "data": {
      "text/plain": [
       "'2946d6b0757fc5c79b65d0fe490fc6896245af19b22f6ab52ef8c93821a6fc335c9c66463c5aaa2c46bb51587a55fe1e4c68f373abe3db9e7dd3f2f91349a526'"
      ]
     },
     "execution_count": 6,
     "metadata": {},
     "output_type": "execute_result"
    }
   ],
   "source": [
    "hashedval=hashlib.sha512(str1.encode()) \n",
    "hashedval.hexdigest()"
   ]
  },
  {
   "cell_type": "code",
   "execution_count": 7,
   "id": "secondary-witness",
   "metadata": {},
   "outputs": [
    {
     "data": {
      "text/plain": [
       "'46bc80c425ebaf94b4adccf45e232f5cdb23eccf'"
      ]
     },
     "execution_count": 7,
     "metadata": {},
     "output_type": "execute_result"
    }
   ],
   "source": [
    "hashedval=hashlib.sha1(str1.encode()) \n",
    "hashedval.hexdigest()"
   ]
  },
  {
   "cell_type": "code",
   "execution_count": null,
   "id": "destroyed-relationship",
   "metadata": {},
   "outputs": [],
   "source": []
  }
 ],
 "metadata": {
  "kernelspec": {
   "display_name": "Python 3 (ipykernel)",
   "language": "python",
   "name": "python3"
  },
  "language_info": {
   "codemirror_mode": {
    "name": "ipython",
    "version": 3
   },
   "file_extension": ".py",
   "mimetype": "text/x-python",
   "name": "python",
   "nbconvert_exporter": "python",
   "pygments_lexer": "ipython3",
   "version": "3.12.8"
  }
 },
 "nbformat": 4,
 "nbformat_minor": 5
}
